{
 "cells": [
  {
   "cell_type": "markdown",
   "metadata": {},
   "source": [
    "# EP01 - MAC0210 (Splines)"
   ]
  },
  {
   "cell_type": "markdown",
   "metadata": {},
   "source": [
    "Para resolver a tarefa passada pelo professor em sala, elaboramos esse Jupyter Notebook. Alunos envolvidos:\n",
    "\n",
    "    Victor Hugo   -------- NUSP: 10297720  \n",
    "    Lucas Civile  -------- NUSP: 7083142          "
   ]
  },
  {
   "cell_type": "code",
   "execution_count": 5,
   "metadata": {},
   "outputs": [],
   "source": [
    "# Importando as bibliotecas necessárias e a classe splines definida em splines.py\n",
    "import splines as spl\n",
    "import numpy as np\n",
    "import matplotlib.pyplot as plt"
   ]
  },
  {
   "cell_type": "code",
   "execution_count": 6,
   "metadata": {},
   "outputs": [],
   "source": [
    "def adjust_splines(t, x_t, num_splines, reg_factor=0.1):\n",
    "  base_spline = spl.spline(np.ones(num_splines), x_min=t[0], x_max=t[-1])\n",
    "  mu = np.array([default_spl.beta_j(j, t) for j in range(num_splines)]).T\n",
    "  m1 = mu.T@mu\n",
    "  b = mu.T@x_t.T\n",
    "  m2 = spl.matrix_m2(num_splines)\n",
    "  M = m1 + reg_factor*m2\n",
    "  adjusted = np.linalg.solve(M, b)\n",
    "  return adjusted"
   ]
  },
  {
   "cell_type": "code",
   "execution_count": null,
   "metadata": {},
   "outputs": [],
   "source": []
  }
 ],
 "metadata": {
  "kernelspec": {
   "display_name": "Python 3",
   "language": "python",
   "name": "python3"
  },
  "language_info": {
   "codemirror_mode": {
    "name": "ipython",
    "version": 3
   },
   "file_extension": ".py",
   "mimetype": "text/x-python",
   "name": "python",
   "nbconvert_exporter": "python",
   "pygments_lexer": "ipython3",
   "version": "3.6.5"
  }
 },
 "nbformat": 4,
 "nbformat_minor": 2
}
