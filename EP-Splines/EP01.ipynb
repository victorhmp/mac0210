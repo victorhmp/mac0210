{
 "cells": [
  {
   "cell_type": "markdown",
   "metadata": {},
   "source": [
    "# EP01 - MAC0210 (Splines)"
   ]
  },
  {
   "cell_type": "markdown",
   "metadata": {},
   "source": [
    "Para resolver a tarefa passada pelo professor em sala, elaboramos esse Jupyter Notebook. Alunos envolvidos:\n",
    "\n",
    "    Victor Hugo   -------- NUSP: 10297720  \n",
    "    Lucas Civile  -------- NUSP: 7083142          "
   ]
  },
  {
   "cell_type": "code",
   "execution_count": 57,
   "metadata": {},
   "outputs": [],
   "source": [
    "# Importando as bibliotecas necessárias e a classe splines definida em splines.py\n",
    "import splines as spl\n",
    "import numpy as np\n",
    "import matplotlib.pyplot as plt"
   ]
  },
  {
   "cell_type": "code",
   "execution_count": 58,
   "metadata": {},
   "outputs": [],
   "source": [
    "def adjust_splines(timeline, x_t, num_splines, lmb):\n",
    "  # Cria uma spline \"base\", com coeficientes iguais a 1\n",
    "  base_spline = spl.spline(np.ones(num_splines), x_min=timeline[0], x_max=timeline[-1])\n",
    "  \n",
    "  mu_aux = []\n",
    "  for j in range(num_splines):\n",
    "    mu_aux.append(base_spline.beta_j(j, timeline))\n",
    "  mu = np.array(mu_aux).T\n",
    "  \n",
    "  m1 = np.dot(mu.T, mu)\n",
    "  y = np.dot(mu.T, x_t.T)\n",
    "  m2 = spl.matrix_m2(num_splines)\n",
    "  M = m1 + lmb*m2\n",
    "\n",
    "  # Resolve o sistema linear e retorna solução\n",
    "  adjusted = np.linalg.solve(M, y)\n",
    "  return adjusted"
   ]
  },
  {
   "cell_type": "code",
   "execution_count": 59,
   "metadata": {},
   "outputs": [],
   "source": [
    "def points_random_noise(timeline, n_data_points, n_splines, x_min, x_max):\n",
    "    return"
   ]
  },
  {
   "cell_type": "code",
   "execution_count": 60,
   "metadata": {},
   "outputs": [],
   "source": [
    "def main(n_data_points = 500, n_splines = 16, lmb = 0.1):\n",
    "    x_min = 0\n",
    "    x_max = 50\n",
    "    \n",
    "    timeline = np.linspace(x_min, x_max, n_data_points)\n",
    "    points = points_random_noise(timeline, n_data_points, n_splines, x_min, x_max)\n",
    "\n",
    "    adjusted = adjust_splines(timeline, points, n_splines, lmb)\n",
    "    plt.subplots_adjust(left=0.25, bottom=0.25)\n",
    "\n",
    "    if len(i) <= 1000:\n",
    "        plt.scatter(timeline, points, s=1.5, color=\"gray\")\n",
    "\n",
    "    generated_spline = plt.plot(timeline, spl.spline(adjusted, x_min=timeline[0], x_max=timeline[-1])(timeline), color='red')\n",
    "    plt.axis([x_min, x_max, np.min(spl_i), np.max(spl_i)])\n",
    "\n",
    "    plt.show()"
   ]
  },
  {
   "cell_type": "code",
   "execution_count": 61,
   "metadata": {},
   "outputs": [
    {
     "ename": "AttributeError",
     "evalue": "'NoneType' object has no attribute 'T'",
     "output_type": "error",
     "traceback": [
      "\u001b[0;31m---------------------------------------------------------------------------\u001b[0m",
      "\u001b[0;31mAttributeError\u001b[0m                            Traceback (most recent call last)",
      "\u001b[0;32m<ipython-input-61-263240bbee7e>\u001b[0m in \u001b[0;36m<module>\u001b[0;34m()\u001b[0m\n\u001b[0;32m----> 1\u001b[0;31m \u001b[0mmain\u001b[0m\u001b[0;34m(\u001b[0m\u001b[0;34m)\u001b[0m\u001b[0;34m\u001b[0m\u001b[0m\n\u001b[0m",
      "\u001b[0;32m<ipython-input-60-24117fe3fe59>\u001b[0m in \u001b[0;36mmain\u001b[0;34m(n_data_points, n_splines, lmb)\u001b[0m\n\u001b[1;32m      6\u001b[0m     \u001b[0mpoints\u001b[0m \u001b[0;34m=\u001b[0m \u001b[0mpoints_random_noise\u001b[0m\u001b[0;34m(\u001b[0m\u001b[0mtimeline\u001b[0m\u001b[0;34m,\u001b[0m \u001b[0mn_data_points\u001b[0m\u001b[0;34m,\u001b[0m \u001b[0mn_splines\u001b[0m\u001b[0;34m,\u001b[0m \u001b[0mx_min\u001b[0m\u001b[0;34m,\u001b[0m \u001b[0mx_max\u001b[0m\u001b[0;34m)\u001b[0m\u001b[0;34m\u001b[0m\u001b[0m\n\u001b[1;32m      7\u001b[0m \u001b[0;34m\u001b[0m\u001b[0m\n\u001b[0;32m----> 8\u001b[0;31m     \u001b[0madjusted\u001b[0m \u001b[0;34m=\u001b[0m \u001b[0madjust_splines\u001b[0m\u001b[0;34m(\u001b[0m\u001b[0mtimeline\u001b[0m\u001b[0;34m,\u001b[0m \u001b[0mpoints\u001b[0m\u001b[0;34m,\u001b[0m \u001b[0mn_splines\u001b[0m\u001b[0;34m,\u001b[0m \u001b[0mlmb\u001b[0m\u001b[0;34m)\u001b[0m\u001b[0;34m\u001b[0m\u001b[0m\n\u001b[0m\u001b[1;32m      9\u001b[0m     \u001b[0mplt\u001b[0m\u001b[0;34m.\u001b[0m\u001b[0msubplots_adjust\u001b[0m\u001b[0;34m(\u001b[0m\u001b[0mleft\u001b[0m\u001b[0;34m=\u001b[0m\u001b[0;36m0.25\u001b[0m\u001b[0;34m,\u001b[0m \u001b[0mbottom\u001b[0m\u001b[0;34m=\u001b[0m\u001b[0;36m0.25\u001b[0m\u001b[0;34m)\u001b[0m\u001b[0;34m\u001b[0m\u001b[0m\n\u001b[1;32m     10\u001b[0m \u001b[0;34m\u001b[0m\u001b[0m\n",
      "\u001b[0;32m<ipython-input-58-3afa042e2cd1>\u001b[0m in \u001b[0;36madjust_splines\u001b[0;34m(timeline, x_t, num_splines, lmb)\u001b[0m\n\u001b[1;32m      9\u001b[0m \u001b[0;34m\u001b[0m\u001b[0m\n\u001b[1;32m     10\u001b[0m   \u001b[0mm1\u001b[0m \u001b[0;34m=\u001b[0m \u001b[0mnp\u001b[0m\u001b[0;34m.\u001b[0m\u001b[0mdot\u001b[0m\u001b[0;34m(\u001b[0m\u001b[0mmu\u001b[0m\u001b[0;34m.\u001b[0m\u001b[0mT\u001b[0m\u001b[0;34m,\u001b[0m \u001b[0mmu\u001b[0m\u001b[0;34m)\u001b[0m\u001b[0;34m\u001b[0m\u001b[0m\n\u001b[0;32m---> 11\u001b[0;31m   \u001b[0my\u001b[0m \u001b[0;34m=\u001b[0m \u001b[0mnp\u001b[0m\u001b[0;34m.\u001b[0m\u001b[0mdot\u001b[0m\u001b[0;34m(\u001b[0m\u001b[0mmu\u001b[0m\u001b[0;34m.\u001b[0m\u001b[0mT\u001b[0m\u001b[0;34m,\u001b[0m \u001b[0mx_t\u001b[0m\u001b[0;34m.\u001b[0m\u001b[0mT\u001b[0m\u001b[0;34m)\u001b[0m\u001b[0;34m\u001b[0m\u001b[0m\n\u001b[0m\u001b[1;32m     12\u001b[0m   \u001b[0mm2\u001b[0m \u001b[0;34m=\u001b[0m \u001b[0mspl\u001b[0m\u001b[0;34m.\u001b[0m\u001b[0mmatrix_m2\u001b[0m\u001b[0;34m(\u001b[0m\u001b[0mnum_splines\u001b[0m\u001b[0;34m)\u001b[0m\u001b[0;34m\u001b[0m\u001b[0m\n\u001b[1;32m     13\u001b[0m   \u001b[0mM\u001b[0m \u001b[0;34m=\u001b[0m \u001b[0mm1\u001b[0m \u001b[0;34m+\u001b[0m \u001b[0mlmb\u001b[0m\u001b[0;34m*\u001b[0m\u001b[0mm2\u001b[0m\u001b[0;34m\u001b[0m\u001b[0m\n",
      "\u001b[0;31mAttributeError\u001b[0m: 'NoneType' object has no attribute 'T'"
     ]
    }
   ],
   "source": [
    "main()"
   ]
  },
  {
   "cell_type": "code",
   "execution_count": null,
   "metadata": {},
   "outputs": [],
   "source": []
  }
 ],
 "metadata": {
  "kernelspec": {
   "display_name": "Python 3",
   "language": "python",
   "name": "python3"
  },
  "language_info": {
   "codemirror_mode": {
    "name": "ipython",
    "version": 3
   },
   "file_extension": ".py",
   "mimetype": "text/x-python",
   "name": "python",
   "nbconvert_exporter": "python",
   "pygments_lexer": "ipython3",
   "version": "3.6.5"
  }
 },
 "nbformat": 4,
 "nbformat_minor": 2
}
